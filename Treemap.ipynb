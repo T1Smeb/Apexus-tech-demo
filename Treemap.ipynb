{
 "cells": [
  {
   "cell_type": "markdown",
   "metadata": {},
   "source": [
    "## <font color='green'>S&P500 Treemap</font>"
   ]
  },
  {
   "cell_type": "markdown",
   "metadata": {},
   "source": [
    "#### Macbook need this to open NLTK"
   ]
  },
  {
   "cell_type": "code",
   "execution_count": 1,
   "metadata": {},
   "outputs": [
    {
     "name": "stderr",
     "output_type": "stream",
     "text": [
      "2024-06-29 11:41:26.285 Python[44927:9180284] WARNING: Secure coding is not enabled for restorable state! Enable secure coding by implementing NSApplicationDelegate.applicationSupportsSecureRestorableState: and returning YES.\n"
     ]
    },
    {
     "name": "stdout",
     "output_type": "stream",
     "text": [
      "showing info https://raw.githubusercontent.com/nltk/nltk_data/gh-pages/index.xml\n"
     ]
    },
    {
     "data": {
      "text/plain": [
       "True"
      ]
     },
     "execution_count": 1,
     "metadata": {},
     "output_type": "execute_result"
    }
   ],
   "source": [
    "import nltk\n",
    "import ssl\n",
    "\n",
    "try:\n",
    "    _create_unverified_https_context = ssl._create_unverified_context\n",
    "except AttributeError:\n",
    "    pass\n",
    "else:\n",
    "    ssl._create_default_https_context = _create_unverified_https_context\n",
    "\n",
    "nltk.download()"
   ]
  },
  {
   "cell_type": "markdown",
   "metadata": {},
   "source": [
    "#### Load necessary libraries"
   ]
  },
  {
   "cell_type": "code",
   "execution_count": 2,
   "metadata": {},
   "outputs": [
    {
     "name": "stderr",
     "output_type": "stream",
     "text": [
      "[nltk_data] Downloading package vader_lexicon to\n",
      "[nltk_data]     /Users/yimingniu/nltk_data...\n",
      "[nltk_data]   Package vader_lexicon is already up-to-date!\n"
     ]
    }
   ],
   "source": [
    "# libraries for webscraping, parsing and getting stock data\n",
    "from urllib.request import urlopen, Request\n",
    "from bs4 import BeautifulSoup\n",
    "import yfinance as yf\n",
    "\n",
    "# for plotting and data manipulation\n",
    "import pandas as pd\n",
    "import matplotlib.pyplot as plt\n",
    "%matplotlib inline\n",
    "import plotly\n",
    "import plotly.express as px\n",
    "\n",
    "# NLTK VADER for sentiment analysis\n",
    "import nltk\n",
    "nltk.download('vader_lexicon')\n",
    "from nltk.sentiment.vader import SentimentIntensityAnalyzer\n",
    "import time\n",
    "from datetime import datetime\n",
    "import warnings\n",
    "import requests"
   ]
  },
  {
   "cell_type": "code",
   "execution_count": 3,
   "metadata": {},
   "outputs": [
    {
     "data": {
      "text/html": [
       "<div>\n",
       "<style scoped>\n",
       "    .dataframe tbody tr th:only-of-type {\n",
       "        vertical-align: middle;\n",
       "    }\n",
       "\n",
       "    .dataframe tbody tr th {\n",
       "        vertical-align: top;\n",
       "    }\n",
       "\n",
       "    .dataframe thead th {\n",
       "        text-align: right;\n",
       "    }\n",
       "</style>\n",
       "<table border=\"1\" class=\"dataframe\">\n",
       "  <thead>\n",
       "    <tr style=\"text-align: right;\">\n",
       "      <th></th>\n",
       "      <th>Ticker</th>\n",
       "      <th>Company</th>\n",
       "      <th>Sector</th>\n",
       "    </tr>\n",
       "  </thead>\n",
       "  <tbody>\n",
       "    <tr>\n",
       "      <th>0</th>\n",
       "      <td>MMM</td>\n",
       "      <td>3M</td>\n",
       "      <td>Industrials</td>\n",
       "    </tr>\n",
       "    <tr>\n",
       "      <th>1</th>\n",
       "      <td>AOS</td>\n",
       "      <td>A. O. Smith</td>\n",
       "      <td>Industrials</td>\n",
       "    </tr>\n",
       "    <tr>\n",
       "      <th>2</th>\n",
       "      <td>ABT</td>\n",
       "      <td>Abbott</td>\n",
       "      <td>Health Care</td>\n",
       "    </tr>\n",
       "    <tr>\n",
       "      <th>3</th>\n",
       "      <td>ABBV</td>\n",
       "      <td>AbbVie</td>\n",
       "      <td>Health Care</td>\n",
       "    </tr>\n",
       "    <tr>\n",
       "      <th>4</th>\n",
       "      <td>ACN</td>\n",
       "      <td>Accenture</td>\n",
       "      <td>Information Technology</td>\n",
       "    </tr>\n",
       "  </tbody>\n",
       "</table>\n",
       "</div>"
      ],
      "text/plain": [
       "  Ticker      Company                  Sector\n",
       "0    MMM           3M             Industrials\n",
       "1    AOS  A. O. Smith             Industrials\n",
       "2    ABT       Abbott             Health Care\n",
       "3   ABBV       AbbVie             Health Care\n",
       "4    ACN    Accenture  Information Technology"
      ]
     },
     "execution_count": 3,
     "metadata": {},
     "output_type": "execute_result"
    }
   ],
   "source": [
    "# From Wikipedia\n",
    "url = 'https://en.wikipedia.org/wiki/List_of_S%26P_500_companies'\n",
    "response = requests.get(url)\n",
    "soup = BeautifulSoup(response.text, 'html.parser')\n",
    "table = soup.find('table', {'id': 'constituents'})\n",
    "\n",
    "# Parse the table\n",
    "df = pd.read_html(str(table))[0]\n",
    "df = df[['Symbol', 'Security', 'GICS Sector']]\n",
    "df.columns = ['Ticker', 'Company', 'Sector']\n",
    "\n",
    "df.head()\n"
   ]
  },
  {
   "cell_type": "markdown",
   "metadata": {},
   "source": [
    "### <font color='green'>Scrape the Date, Time and News Headlines Data (Some error when reading the tickers)</font>"
   ]
  },
  {
   "cell_type": "code",
   "execution_count": 4,
   "metadata": {},
   "outputs": [
    {
     "name": "stdout",
     "output_type": "stream",
     "text": [
      "MMM\n",
      "AOS\n",
      "ABT\n",
      "ABBV\n",
      "ACN\n",
      "ADBE\n",
      "AMD\n",
      "AES\n",
      "AFL\n",
      "A\n",
      "APD\n",
      "ABNB\n",
      "AKAM\n",
      "ALB\n",
      "ARE\n",
      "ALGN\n",
      "ALLE\n",
      "LNT\n",
      "ALL\n",
      "GOOGL\n",
      "GOOG\n",
      "MO\n",
      "AMZN\n",
      "AMCR\n",
      "AEE\n",
      "AAL\n",
      "AEP\n",
      "AXP\n",
      "AIG\n",
      "AMT\n",
      "AWK\n",
      "AMP\n",
      "AME\n",
      "AMGN\n",
      "APH\n",
      "ADI\n",
      "ANSS\n",
      "AON\n",
      "APA\n",
      "AAPL\n",
      "AMAT\n",
      "APTV\n",
      "ACGL\n",
      "ADM\n",
      "ANET\n",
      "AJG\n",
      "AIZ\n",
      "T\n",
      "ATO\n",
      "ADSK\n",
      "ADP\n",
      "AZO\n",
      "AVB\n",
      "AVY\n",
      "AXON\n",
      "BKR\n",
      "BALL\n",
      "BAC\n",
      "BK\n",
      "BBWI\n",
      "BAX\n",
      "BDX\n",
      "BRK.B\n",
      "Error\n",
      "BBY\n",
      "BIO\n",
      "TECH\n",
      "BIIB\n",
      "BLK\n",
      "BX\n",
      "BA\n",
      "BKNG\n",
      "BWA\n",
      "BXP\n",
      "BSX\n",
      "BMY\n",
      "AVGO\n",
      "BR\n",
      "BRO\n",
      "BF.B\n",
      "Error\n",
      "BLDR\n",
      "BG\n",
      "CDNS\n",
      "CZR\n",
      "CPT\n",
      "CPB\n",
      "COF\n",
      "CAH\n",
      "KMX\n",
      "CCL\n",
      "CARR\n",
      "CTLT\n",
      "CAT\n",
      "CBOE\n",
      "CBRE\n",
      "CDW\n",
      "CE\n",
      "COR\n",
      "CNC\n",
      "CNP\n",
      "CF\n",
      "CHRW\n",
      "CRL\n",
      "SCHW\n",
      "CHTR\n",
      "CVX\n",
      "CMG\n",
      "CB\n",
      "CHD\n",
      "CI\n",
      "CINF\n",
      "CTAS\n",
      "CSCO\n",
      "C\n",
      "CFG\n",
      "CLX\n",
      "CME\n",
      "CMS\n",
      "KO\n",
      "CTSH\n",
      "CL\n",
      "CMCSA\n",
      "CAG\n",
      "COP\n",
      "ED\n",
      "STZ\n",
      "CEG\n",
      "COO\n",
      "CPRT\n",
      "GLW\n",
      "CPAY\n",
      "CTVA\n",
      "CSGP\n",
      "COST\n",
      "CTRA\n",
      "CRWD\n",
      "CCI\n",
      "CSX\n",
      "CMI\n",
      "CVS\n",
      "DHR\n",
      "DRI\n",
      "DVA\n",
      "DAY\n",
      "DECK\n",
      "DE\n",
      "DAL\n",
      "DVN\n",
      "DXCM\n",
      "FANG\n",
      "DLR\n",
      "DFS\n",
      "DG\n",
      "DLTR\n",
      "D\n",
      "DPZ\n",
      "DOV\n",
      "DOW\n",
      "DHI\n",
      "DTE\n",
      "DUK\n",
      "DD\n",
      "EMN\n",
      "ETN\n",
      "EBAY\n",
      "ECL\n",
      "EIX\n",
      "EW\n",
      "EA\n",
      "ELV\n",
      "LLY\n",
      "EMR\n",
      "ENPH\n",
      "ETR\n",
      "EOG\n",
      "EPAM\n",
      "EQT\n",
      "EFX\n",
      "EQIX\n",
      "EQR\n",
      "ESS\n",
      "EL\n",
      "ETSY\n",
      "EG\n",
      "EVRG\n",
      "ES\n",
      "EXC\n",
      "EXPE\n",
      "EXPD\n",
      "EXR\n",
      "XOM\n",
      "FFIV\n",
      "FDS\n",
      "FICO\n",
      "FAST\n",
      "FRT\n",
      "FDX\n",
      "FIS\n",
      "FITB\n",
      "FSLR\n",
      "FE\n",
      "FI\n",
      "FMC\n",
      "F\n",
      "FTNT\n",
      "FTV\n",
      "FOXA\n",
      "FOX\n",
      "BEN\n",
      "FCX\n",
      "GRMN\n",
      "IT\n",
      "GE\n",
      "GEHC\n",
      "GEV\n",
      "GEN\n",
      "GNRC\n",
      "GD\n",
      "GIS\n",
      "GM\n",
      "GPC\n",
      "GILD\n",
      "GPN\n",
      "GL\n",
      "GDDY\n",
      "GS\n",
      "HAL\n",
      "HIG\n",
      "HAS\n",
      "HCA\n",
      "DOC\n",
      "HSIC\n",
      "HSY\n",
      "HES\n",
      "HPE\n",
      "HLT\n",
      "HOLX\n",
      "HD\n",
      "HON\n",
      "HRL\n",
      "HST\n",
      "HWM\n",
      "HPQ\n",
      "HUBB\n",
      "HUM\n",
      "HBAN\n",
      "HII\n",
      "IBM\n",
      "IEX\n",
      "IDXX\n",
      "ITW\n",
      "INCY\n",
      "IR\n",
      "PODD\n",
      "INTC\n",
      "ICE\n",
      "IFF\n",
      "IP\n",
      "IPG\n",
      "INTU\n",
      "ISRG\n",
      "IVZ\n",
      "INVH\n",
      "IQV\n",
      "IRM\n",
      "JBHT\n",
      "JBL\n",
      "JKHY\n",
      "J\n",
      "JNJ\n",
      "JCI\n",
      "JPM\n",
      "JNPR\n",
      "K\n",
      "KVUE\n",
      "KDP\n",
      "KEY\n",
      "KEYS\n",
      "KMB\n",
      "KIM\n",
      "KMI\n",
      "KKR\n",
      "KLAC\n",
      "KHC\n",
      "KR\n",
      "LHX\n",
      "LH\n",
      "LRCX\n",
      "LW\n",
      "LVS\n",
      "LDOS\n",
      "LEN\n",
      "LIN\n",
      "LYV\n",
      "LKQ\n",
      "LMT\n",
      "L\n",
      "LOW\n",
      "LULU\n",
      "LYB\n",
      "MTB\n",
      "MRO\n",
      "MPC\n",
      "MKTX\n",
      "MAR\n",
      "MMC\n",
      "MLM\n",
      "MAS\n",
      "MA\n",
      "MTCH\n",
      "MKC\n",
      "MCD\n",
      "MCK\n",
      "MDT\n",
      "MRK\n",
      "META\n",
      "MET\n",
      "MTD\n",
      "MGM\n",
      "MCHP\n",
      "MU\n",
      "MSFT\n",
      "MAA\n",
      "MRNA\n",
      "MHK\n",
      "MOH\n",
      "TAP\n",
      "MDLZ\n",
      "MPWR\n",
      "MNST\n",
      "MCO\n",
      "MS\n",
      "MOS\n",
      "MSI\n",
      "MSCI\n",
      "NDAQ\n",
      "NTAP\n",
      "NFLX\n",
      "NEM\n",
      "NWSA\n",
      "NWS\n",
      "NEE\n",
      "NKE\n",
      "NI\n",
      "NDSN\n",
      "NSC\n",
      "NTRS\n",
      "NOC\n",
      "NCLH\n",
      "NRG\n",
      "NUE\n",
      "NVDA\n",
      "NVR\n",
      "NXPI\n",
      "ORLY\n",
      "OXY\n",
      "ODFL\n",
      "OMC\n",
      "ON\n",
      "OKE\n",
      "ORCL\n",
      "OTIS\n",
      "PCAR\n",
      "PKG\n",
      "PANW\n",
      "PARA\n",
      "PH\n",
      "PAYX\n",
      "PAYC\n",
      "PYPL\n",
      "PNR\n",
      "PEP\n",
      "PFE\n",
      "PCG\n",
      "PM\n",
      "PSX\n",
      "PNW\n",
      "PNC\n",
      "POOL\n",
      "PPG\n",
      "PPL\n",
      "PFG\n",
      "PG\n",
      "PGR\n",
      "PLD\n",
      "PRU\n",
      "PEG\n",
      "PTC\n",
      "PSA\n",
      "PHM\n",
      "QRVO\n",
      "PWR\n",
      "QCOM\n",
      "DGX\n",
      "RL\n",
      "RJF\n",
      "RTX\n",
      "O\n",
      "REG\n",
      "REGN\n",
      "RF\n",
      "RSG\n",
      "RMD\n",
      "RVTY\n",
      "ROK\n",
      "ROL\n",
      "ROP\n",
      "ROST\n",
      "RCL\n",
      "SPGI\n",
      "CRM\n",
      "SBAC\n",
      "SLB\n",
      "STX\n",
      "SRE\n",
      "NOW\n",
      "SHW\n",
      "SPG\n",
      "SWKS\n",
      "SJM\n",
      "SNA\n",
      "SOLV\n",
      "SO\n",
      "LUV\n",
      "SWK\n",
      "SBUX\n",
      "STT\n",
      "STLD\n",
      "STE\n",
      "SYK\n",
      "SMCI\n",
      "SYF\n",
      "SNPS\n",
      "SYY\n",
      "TMUS\n",
      "TROW\n",
      "TTWO\n",
      "TPR\n",
      "TRGP\n",
      "TGT\n",
      "TEL\n",
      "TDY\n",
      "TFX\n",
      "TER\n",
      "TSLA\n",
      "TXN\n",
      "TXT\n",
      "TMO\n",
      "TJX\n",
      "TSCO\n",
      "TT\n",
      "TDG\n",
      "TRV\n",
      "TRMB\n",
      "TFC\n",
      "TYL\n",
      "TSN\n",
      "USB\n",
      "UBER\n",
      "UDR\n",
      "ULTA\n",
      "UNP\n",
      "UAL\n",
      "UPS\n",
      "URI\n",
      "UNH\n",
      "UHS\n",
      "VLO\n",
      "VTR\n",
      "VLTO\n",
      "VRSN\n",
      "VRSK\n",
      "VZ\n",
      "VRTX\n",
      "VTRS\n",
      "VICI\n",
      "V\n",
      "VST\n",
      "VMC\n",
      "WRB\n",
      "GWW\n",
      "WAB\n",
      "WBA\n",
      "WMT\n",
      "DIS\n",
      "WBD\n",
      "WM\n",
      "WAT\n",
      "WEC\n",
      "WFC\n",
      "WELL\n",
      "WST\n",
      "WDC\n",
      "WRK\n",
      "WY\n",
      "WMB\n",
      "WTW\n",
      "WYNN\n",
      "XEL\n",
      "XYL\n",
      "YUM\n",
      "ZBRA\n",
      "ZBH\n",
      "ZTS\n"
     ]
    }
   ],
   "source": [
    "# Scrape the Date, Time and News Headlines Data\n",
    "finwiz_url = 'https://finviz.com/quote.ashx?t='\n",
    "news_tables = {}\n",
    "\n",
    "tickers = df['Ticker'].tolist()\n",
    "\n",
    "for ticker in tickers:\n",
    "    print(ticker)\n",
    "    url = finwiz_url + ticker\n",
    "    req = Request(url=url,headers={'User-Agent': 'Mozilla/5.0 (Windows NT 6.1; WOW64; rv:20.0) Gecko/20100101 Firefox/20.0'}) \n",
    "    try:\n",
    "        response = urlopen(req)    \n",
    "        # Read the contents of the file into 'html'\n",
    "        html = BeautifulSoup(response, 'html.parser')\n",
    "        # Find 'news-table' in the Soup and load it into 'news_table'\n",
    "        news_table = html.find(id='news-table')\n",
    "        # Add the table to our dictionary\n",
    "        news_tables[ticker] = news_table\n",
    "        # Avoid HTTP Error 429\n",
    "        time.sleep(0.3)\n",
    "    except Exception as e:\n",
    "        print(\"Error\")\n",
    "        continue"
   ]
  },
  {
   "cell_type": "markdown",
   "metadata": {},
   "source": [
    "### <font color='green'>Print the Data from news_table</font>"
   ]
  },
  {
   "cell_type": "code",
   "execution_count": 5,
   "metadata": {},
   "outputs": [
    {
     "name": "stdout",
     "output_type": "stream",
     "text": [
      "I Shopped on Temu: 3 Reasons I'm Not Convinced Temu Is a Big Threat to Amazon\n",
      "\n",
      "            Today 11:22AM\n",
      "        \n",
      "2 Reasons to Keep an Eye on JD.com Stock\n",
      "\n",
      "            11:08AM\n",
      "        \n",
      "Why Is Brad Gerstner Bullish on Amazon.com Inc (AMZN) Right Now?\n",
      "\n",
      "            10:17AM\n",
      "        \n",
      "3 Artificial Intelligence (AI) Stocks to Buy Now and Hold for Decades\n",
      "\n",
      "            10:04AM\n",
      "        \n"
     ]
    }
   ],
   "source": [
    "# Print the Data from news_table (optional)\n",
    "# Example: Read one single day of headlines for ‘AMZN’ \n",
    "amzn = news_tables['AMZN']\n",
    "# Get all the table rows tagged in HTML with <tr> into ‘amzn_tr’\n",
    "amzn_tr = amzn.findAll('tr')\n",
    "for i, table_row in enumerate(amzn_tr):\n",
    "     # Read the text of the element ‘a’ into ‘link_text’\n",
    "     a_text = table_row.a.text\n",
    "     # Read the text of the element ‘td’ into ‘data_text’\n",
    "     td_text = table_row.td.text\n",
    "     # Print the contents of ‘link_text’ and ‘data_text’ \n",
    "     print(a_text)\n",
    "     print(td_text)\n",
    "     # Exit after printing 4 rows of data\n",
    "     if i == 3:\n",
    "         break"
   ]
  },
  {
   "cell_type": "markdown",
   "metadata": {},
   "source": [
    "### <font color='green'>Parse the Date, Time and News Headlines into a Python List</font>"
   ]
  },
  {
   "cell_type": "code",
   "execution_count": 6,
   "metadata": {},
   "outputs": [
    {
     "data": {
      "text/plain": [
       "[['MMM',\n",
       "  'Jun-27-24',\n",
       "  '09:30AM',\n",
       "  '3M Young Scientist Challenge Announces 2024 National Finalists'],\n",
       " ['MMM',\n",
       "  datetime.date(2024, 6, 29),\n",
       "  '09:00AM',\n",
       "  'Is Trending Stock 3M Company (MMM) a Buy Now?'],\n",
       " ['MMM',\n",
       "  'Jun-26-24',\n",
       "  '09:30AM',\n",
       "  '3M and Discovery Education Recognize 26 State Merit Winners and Four Honorable Mentions in 2024 3M Young Scientist Challenge'],\n",
       " ['MMM',\n",
       "  'Jun-25-24',\n",
       "  '05:45PM',\n",
       "  '3M (MMM) Stock Falls Amid Market Uptick: What Investors Need to Know'],\n",
       " ['MMM',\n",
       "  datetime.date(2024, 6, 29),\n",
       "  '05:44PM',\n",
       "  'Connecticut firefighters sue DuPont, 3M, Honeywell over allegedly contaminated gear']]"
      ]
     },
     "execution_count": 6,
     "metadata": {},
     "output_type": "execute_result"
    }
   ],
   "source": [
    "# Parse the Date, Time and News Headlines into a Python List\n",
    "parsed_news = []\n",
    "# Iterate through the news\n",
    "for file_name, news_table in news_tables.items():\n",
    "    # Iterate through all tr tags in 'news_table'\n",
    "    for x in news_table.findAll('tr'):\n",
    "        # read the text from each tr tag into text\n",
    "        # get text from a only\n",
    "        if x.a: # Avoid Null value\n",
    "            text = x.a.get_text()\n",
    "        else:\n",
    "            continue\n",
    "        # splite text in the td tag into a list \n",
    "        date_scrape = x.td.text.split()\n",
    "        # if the length of 'date_scrape' is 1, load 'time' as the only element\n",
    "        if len(date_scrape) == 1:\n",
    "            time = date_scrape[0]\n",
    "            date = datetime.now().date()\n",
    "        # else load 'date' as the 1st element and 'time' as the second    \n",
    "        else:\n",
    "            date = date_scrape[0]\n",
    "            time = date_scrape[1]\n",
    "        # Extract the ticker from the file name, get the string up to the 1st '_'  \n",
    "        ticker = file_name\n",
    "        \n",
    "        # Append ticker, date, time and headline as a list to the 'parsed_news' list\n",
    "        parsed_news.append([ticker, date, time, text])\n",
    "        \n",
    "parsed_news[:5] # print first 5 rows of news"
   ]
  },
  {
   "cell_type": "markdown",
   "metadata": {},
   "source": [
    "### <font color='green'>Perform Sentiment Analysis with Vader</font>"
   ]
  },
  {
   "cell_type": "code",
   "execution_count": 7,
   "metadata": {},
   "outputs": [
    {
     "name": "stdout",
     "output_type": "stream",
     "text": [
      "                neg           neu           pos      compound\n",
      "count  49918.000000  49918.000000  49918.000000  49918.000000\n",
      "mean       0.027786      0.860932      0.111282      0.142887\n",
      "std        0.078235      0.161661      0.148080      0.292707\n",
      "min        0.000000      0.201000      0.000000     -0.926000\n",
      "25%        0.000000      0.741000      0.000000      0.000000\n",
      "50%        0.000000      1.000000      0.000000      0.000000\n",
      "75%        0.000000      1.000000      0.217000      0.340000\n",
      "max        0.667000      1.000000      0.787000      0.960900\n"
     ]
    }
   ],
   "source": [
    "# Perform Sentiment Analysis with Vader\n",
    "# Instantiate the sentiment intensity analyzer\n",
    "vader = SentimentIntensityAnalyzer()\n",
    "# Set column names\n",
    "columns = ['ticker', 'date', 'time', 'headline']\n",
    "# Convert the parsed_news list into a DataFrame called 'parsed_and_scored_news'\n",
    "parsed_and_scored_news = pd.DataFrame(parsed_news, columns=columns)\n",
    "\n",
    "# Convert today to the date format\n",
    "parsed_and_scored_news['date'] = parsed_and_scored_news['date'].apply(lambda x: datetime.now().date() if x == 'Today' else x)\n",
    "\n",
    "# Iterate through the headlines and get the polarity scores using vader\n",
    "scores = parsed_and_scored_news['headline'].apply(vader.polarity_scores).tolist()\n",
    "# Convert the 'scores' list of dicts into a DataFrame\n",
    "scores_df = pd.DataFrame(scores)\n",
    "\n",
    "# Join the DataFrames of the news and the list of dicts\n",
    "parsed_and_scored_news = parsed_and_scored_news.join(scores_df, rsuffix='_right')\n",
    "# Convert the date column from string to datetime\n",
    "parsed_and_scored_news['date'] = pd.to_datetime(parsed_and_scored_news.date).dt.date\n",
    "parsed_and_scored_news.head()\n",
    "\n",
    "# Make sure the compound lies between -1 to 1\n",
    "print(parsed_and_scored_news[['neg', 'neu', 'pos', 'compound']].describe())"
   ]
  },
  {
   "cell_type": "code",
   "execution_count": 122,
   "metadata": {},
   "outputs": [
    {
     "data": {
      "text/html": [
       "<div>\n",
       "<style scoped>\n",
       "    .dataframe tbody tr th:only-of-type {\n",
       "        vertical-align: middle;\n",
       "    }\n",
       "\n",
       "    .dataframe tbody tr th {\n",
       "        vertical-align: top;\n",
       "    }\n",
       "\n",
       "    .dataframe thead th {\n",
       "        text-align: right;\n",
       "    }\n",
       "</style>\n",
       "<table border=\"1\" class=\"dataframe\">\n",
       "  <thead>\n",
       "    <tr style=\"text-align: right;\">\n",
       "      <th></th>\n",
       "      <th>ticker</th>\n",
       "      <th>date</th>\n",
       "      <th>time</th>\n",
       "      <th>headline</th>\n",
       "      <th>neg</th>\n",
       "      <th>neu</th>\n",
       "      <th>pos</th>\n",
       "      <th>compound</th>\n",
       "    </tr>\n",
       "  </thead>\n",
       "  <tbody>\n",
       "    <tr>\n",
       "      <th>0</th>\n",
       "      <td>MMM</td>\n",
       "      <td>2024-06-25</td>\n",
       "      <td>05:45PM</td>\n",
       "      <td>3M (MMM) Stock Falls Amid Market Uptick: What ...</td>\n",
       "      <td>0.000</td>\n",
       "      <td>1.000</td>\n",
       "      <td>0.000</td>\n",
       "      <td>0.0000</td>\n",
       "    </tr>\n",
       "    <tr>\n",
       "      <th>1</th>\n",
       "      <td>MMM</td>\n",
       "      <td>2024-06-25</td>\n",
       "      <td>05:44PM</td>\n",
       "      <td>Connecticut firefighters sue DuPont, 3M, Honey...</td>\n",
       "      <td>0.000</td>\n",
       "      <td>1.000</td>\n",
       "      <td>0.000</td>\n",
       "      <td>0.0000</td>\n",
       "    </tr>\n",
       "    <tr>\n",
       "      <th>2</th>\n",
       "      <td>MMM</td>\n",
       "      <td>2024-06-25</td>\n",
       "      <td>03:00PM</td>\n",
       "      <td>3 Stocks to Buy Before the Expected Rate Cut T...</td>\n",
       "      <td>0.189</td>\n",
       "      <td>0.811</td>\n",
       "      <td>0.000</td>\n",
       "      <td>-0.2732</td>\n",
       "    </tr>\n",
       "    <tr>\n",
       "      <th>3</th>\n",
       "      <td>MMM</td>\n",
       "      <td>2024-06-21</td>\n",
       "      <td>12:14PM</td>\n",
       "      <td>The 30-stock secret: Dont fight Papa Dow</td>\n",
       "      <td>0.000</td>\n",
       "      <td>0.733</td>\n",
       "      <td>0.267</td>\n",
       "      <td>0.2924</td>\n",
       "    </tr>\n",
       "    <tr>\n",
       "      <th>4</th>\n",
       "      <td>MMM</td>\n",
       "      <td>2024-06-19</td>\n",
       "      <td>10:11PM</td>\n",
       "      <td>Zeek, a New Decentralized Social Collaboration...</td>\n",
       "      <td>0.000</td>\n",
       "      <td>1.000</td>\n",
       "      <td>0.000</td>\n",
       "      <td>0.0000</td>\n",
       "    </tr>\n",
       "    <tr>\n",
       "      <th>...</th>\n",
       "      <td>...</td>\n",
       "      <td>...</td>\n",
       "      <td>...</td>\n",
       "      <td>...</td>\n",
       "      <td>...</td>\n",
       "      <td>...</td>\n",
       "      <td>...</td>\n",
       "      <td>...</td>\n",
       "    </tr>\n",
       "    <tr>\n",
       "      <th>49910</th>\n",
       "      <td>ZTS</td>\n",
       "      <td>2024-03-27</td>\n",
       "      <td>04:26PM</td>\n",
       "      <td>Largest Animal Health Firm Zoetis Hit With Eur...</td>\n",
       "      <td>0.148</td>\n",
       "      <td>0.852</td>\n",
       "      <td>0.000</td>\n",
       "      <td>-0.5106</td>\n",
       "    </tr>\n",
       "    <tr>\n",
       "      <th>49911</th>\n",
       "      <td>ZTS</td>\n",
       "      <td>2024-03-26</td>\n",
       "      <td>10:27AM</td>\n",
       "      <td>UPDATE 2-Zoetis in EU antitrust crosshairs ove...</td>\n",
       "      <td>0.248</td>\n",
       "      <td>0.752</td>\n",
       "      <td>0.000</td>\n",
       "      <td>-0.5106</td>\n",
       "    </tr>\n",
       "    <tr>\n",
       "      <th>49912</th>\n",
       "      <td>ZTS</td>\n",
       "      <td>2024-06-25</td>\n",
       "      <td>09:34AM</td>\n",
       "      <td>Zoetis in EU antitrust crosshairs over rival d...</td>\n",
       "      <td>0.268</td>\n",
       "      <td>0.732</td>\n",
       "      <td>0.000</td>\n",
       "      <td>-0.5106</td>\n",
       "    </tr>\n",
       "    <tr>\n",
       "      <th>49913</th>\n",
       "      <td>ZTS</td>\n",
       "      <td>2024-06-25</td>\n",
       "      <td>09:30AM</td>\n",
       "      <td>EU targets Zoetis in antitrust investigation o...</td>\n",
       "      <td>0.000</td>\n",
       "      <td>1.000</td>\n",
       "      <td>0.000</td>\n",
       "      <td>0.0000</td>\n",
       "    </tr>\n",
       "    <tr>\n",
       "      <th>49914</th>\n",
       "      <td>ZTS</td>\n",
       "      <td>2024-03-14</td>\n",
       "      <td>11:30AM</td>\n",
       "      <td>Zoetis (ZTS) Down 4.3% Since Last Earnings Rep...</td>\n",
       "      <td>0.000</td>\n",
       "      <td>1.000</td>\n",
       "      <td>0.000</td>\n",
       "      <td>0.0000</td>\n",
       "    </tr>\n",
       "  </tbody>\n",
       "</table>\n",
       "<p>49915 rows × 8 columns</p>\n",
       "</div>"
      ],
      "text/plain": [
       "      ticker        date     time  \\\n",
       "0        MMM  2024-06-25  05:45PM   \n",
       "1        MMM  2024-06-25  05:44PM   \n",
       "2        MMM  2024-06-25  03:00PM   \n",
       "3        MMM  2024-06-21  12:14PM   \n",
       "4        MMM  2024-06-19  10:11PM   \n",
       "...      ...         ...      ...   \n",
       "49910    ZTS  2024-03-27  04:26PM   \n",
       "49911    ZTS  2024-03-26  10:27AM   \n",
       "49912    ZTS  2024-06-25  09:34AM   \n",
       "49913    ZTS  2024-06-25  09:30AM   \n",
       "49914    ZTS  2024-03-14  11:30AM   \n",
       "\n",
       "                                                headline    neg    neu    pos  \\\n",
       "0      3M (MMM) Stock Falls Amid Market Uptick: What ...  0.000  1.000  0.000   \n",
       "1      Connecticut firefighters sue DuPont, 3M, Honey...  0.000  1.000  0.000   \n",
       "2      3 Stocks to Buy Before the Expected Rate Cut T...  0.189  0.811  0.000   \n",
       "3               The 30-stock secret: Dont fight Papa Dow  0.000  0.733  0.267   \n",
       "4      Zeek, a New Decentralized Social Collaboration...  0.000  1.000  0.000   \n",
       "...                                                  ...    ...    ...    ...   \n",
       "49910  Largest Animal Health Firm Zoetis Hit With Eur...  0.148  0.852  0.000   \n",
       "49911  UPDATE 2-Zoetis in EU antitrust crosshairs ove...  0.248  0.752  0.000   \n",
       "49912  Zoetis in EU antitrust crosshairs over rival d...  0.268  0.732  0.000   \n",
       "49913  EU targets Zoetis in antitrust investigation o...  0.000  1.000  0.000   \n",
       "49914  Zoetis (ZTS) Down 4.3% Since Last Earnings Rep...  0.000  1.000  0.000   \n",
       "\n",
       "       compound  \n",
       "0        0.0000  \n",
       "1        0.0000  \n",
       "2       -0.2732  \n",
       "3        0.2924  \n",
       "4        0.0000  \n",
       "...         ...  \n",
       "49910   -0.5106  \n",
       "49911   -0.5106  \n",
       "49912   -0.5106  \n",
       "49913    0.0000  \n",
       "49914    0.0000  \n",
       "\n",
       "[49915 rows x 8 columns]"
      ]
     },
     "execution_count": 122,
     "metadata": {},
     "output_type": "execute_result"
    }
   ],
   "source": [
    "# Visualize the data\n",
    "parsed_and_scored_news"
   ]
  },
  {
   "cell_type": "markdown",
   "metadata": {},
   "source": [
    "### <font color='green'>Calculate Mean Sentiment for Each Ticker</font>"
   ]
  },
  {
   "cell_type": "code",
   "execution_count": 8,
   "metadata": {},
   "outputs": [
    {
     "name": "stderr",
     "output_type": "stream",
     "text": [
      "/var/folders/7k/vccv80yd3nsdc972smlpyx780000gn/T/ipykernel_44927/2723772882.py:2: FutureWarning: The default value of numeric_only in DataFrameGroupBy.mean is deprecated. In a future version, numeric_only will default to False. Either specify numeric_only or select only columns which should be valid for the function.\n",
      "  mean_scores = parsed_and_scored_news.groupby(['ticker']).mean()\n"
     ]
    },
    {
     "data": {
      "text/html": [
       "<div>\n",
       "<style scoped>\n",
       "    .dataframe tbody tr th:only-of-type {\n",
       "        vertical-align: middle;\n",
       "    }\n",
       "\n",
       "    .dataframe tbody tr th {\n",
       "        vertical-align: top;\n",
       "    }\n",
       "\n",
       "    .dataframe thead th {\n",
       "        text-align: right;\n",
       "    }\n",
       "</style>\n",
       "<table border=\"1\" class=\"dataframe\">\n",
       "  <thead>\n",
       "    <tr style=\"text-align: right;\">\n",
       "      <th></th>\n",
       "      <th>neg</th>\n",
       "      <th>neu</th>\n",
       "      <th>pos</th>\n",
       "      <th>compound</th>\n",
       "    </tr>\n",
       "    <tr>\n",
       "      <th>ticker</th>\n",
       "      <th></th>\n",
       "      <th></th>\n",
       "      <th></th>\n",
       "      <th></th>\n",
       "    </tr>\n",
       "  </thead>\n",
       "  <tbody>\n",
       "    <tr>\n",
       "      <th>A</th>\n",
       "      <td>0.01648</td>\n",
       "      <td>0.88186</td>\n",
       "      <td>0.10166</td>\n",
       "      <td>0.141734</td>\n",
       "    </tr>\n",
       "    <tr>\n",
       "      <th>AAL</th>\n",
       "      <td>0.10006</td>\n",
       "      <td>0.79991</td>\n",
       "      <td>0.10002</td>\n",
       "      <td>0.000527</td>\n",
       "    </tr>\n",
       "    <tr>\n",
       "      <th>AAPL</th>\n",
       "      <td>0.03831</td>\n",
       "      <td>0.83068</td>\n",
       "      <td>0.13100</td>\n",
       "      <td>0.183216</td>\n",
       "    </tr>\n",
       "    <tr>\n",
       "      <th>ABBV</th>\n",
       "      <td>0.03019</td>\n",
       "      <td>0.83570</td>\n",
       "      <td>0.13410</td>\n",
       "      <td>0.179221</td>\n",
       "    </tr>\n",
       "    <tr>\n",
       "      <th>ABNB</th>\n",
       "      <td>0.03938</td>\n",
       "      <td>0.82742</td>\n",
       "      <td>0.13319</td>\n",
       "      <td>0.157043</td>\n",
       "    </tr>\n",
       "    <tr>\n",
       "      <th>...</th>\n",
       "      <td>...</td>\n",
       "      <td>...</td>\n",
       "      <td>...</td>\n",
       "      <td>...</td>\n",
       "    </tr>\n",
       "    <tr>\n",
       "      <th>XYL</th>\n",
       "      <td>0.00647</td>\n",
       "      <td>0.87191</td>\n",
       "      <td>0.12163</td>\n",
       "      <td>0.184680</td>\n",
       "    </tr>\n",
       "    <tr>\n",
       "      <th>YUM</th>\n",
       "      <td>0.01760</td>\n",
       "      <td>0.89278</td>\n",
       "      <td>0.08961</td>\n",
       "      <td>0.139354</td>\n",
       "    </tr>\n",
       "    <tr>\n",
       "      <th>ZBH</th>\n",
       "      <td>0.00922</td>\n",
       "      <td>0.91351</td>\n",
       "      <td>0.07726</td>\n",
       "      <td>0.125536</td>\n",
       "    </tr>\n",
       "    <tr>\n",
       "      <th>ZBRA</th>\n",
       "      <td>0.00899</td>\n",
       "      <td>0.89448</td>\n",
       "      <td>0.09653</td>\n",
       "      <td>0.146205</td>\n",
       "    </tr>\n",
       "    <tr>\n",
       "      <th>ZTS</th>\n",
       "      <td>0.04072</td>\n",
       "      <td>0.86099</td>\n",
       "      <td>0.09828</td>\n",
       "      <td>0.090078</td>\n",
       "    </tr>\n",
       "  </tbody>\n",
       "</table>\n",
       "<p>501 rows × 4 columns</p>\n",
       "</div>"
      ],
      "text/plain": [
       "            neg      neu      pos  compound\n",
       "ticker                                     \n",
       "A       0.01648  0.88186  0.10166  0.141734\n",
       "AAL     0.10006  0.79991  0.10002  0.000527\n",
       "AAPL    0.03831  0.83068  0.13100  0.183216\n",
       "ABBV    0.03019  0.83570  0.13410  0.179221\n",
       "ABNB    0.03938  0.82742  0.13319  0.157043\n",
       "...         ...      ...      ...       ...\n",
       "XYL     0.00647  0.87191  0.12163  0.184680\n",
       "YUM     0.01760  0.89278  0.08961  0.139354\n",
       "ZBH     0.00922  0.91351  0.07726  0.125536\n",
       "ZBRA    0.00899  0.89448  0.09653  0.146205\n",
       "ZTS     0.04072  0.86099  0.09828  0.090078\n",
       "\n",
       "[501 rows x 4 columns]"
      ]
     },
     "execution_count": 8,
     "metadata": {},
     "output_type": "execute_result"
    }
   ],
   "source": [
    "# Group by each ticker and get the mean of all sentiment scores\n",
    "mean_scores = parsed_and_scored_news.groupby(['ticker']).mean()\n",
    "mean_scores"
   ]
  },
  {
   "cell_type": "markdown",
   "metadata": {},
   "source": [
    "### <font color='green'>Get Current Price, Sector and Industry of each Ticker</font>"
   ]
  },
  {
   "cell_type": "code",
   "execution_count": 9,
   "metadata": {},
   "outputs": [
    {
     "name": "stdout",
     "output_type": "stream",
     "text": [
      "MMM\n",
      "AOS\n",
      "ABT\n",
      "ABBV\n",
      "ACN\n",
      "ADBE\n",
      "AMD\n",
      "AES\n",
      "AFL\n",
      "A\n",
      "APD\n",
      "ABNB\n",
      "AKAM\n",
      "ALB\n",
      "ARE\n",
      "ALGN\n",
      "ALLE\n",
      "LNT\n",
      "ALL\n",
      "GOOGL\n",
      "GOOG\n",
      "MO\n",
      "AMZN\n",
      "AMCR\n",
      "AEE\n",
      "AAL\n",
      "AEP\n",
      "AXP\n",
      "AIG\n",
      "AMT\n",
      "AWK\n",
      "AMP\n",
      "AME\n",
      "AMGN\n",
      "APH\n",
      "ADI\n",
      "ANSS\n",
      "AON\n",
      "APA\n",
      "AAPL\n",
      "AMAT\n",
      "APTV\n",
      "ACGL\n",
      "ADM\n",
      "ANET\n",
      "AJG\n",
      "AIZ\n",
      "T\n",
      "ATO\n",
      "ADSK\n",
      "ADP\n",
      "AZO\n",
      "AVB\n",
      "AVY\n",
      "AXON\n",
      "BKR\n",
      "BALL\n",
      "BAC\n",
      "BK\n",
      "BBWI\n",
      "BAX\n",
      "BDX\n",
      "BRK.B\n",
      "BBY\n",
      "BIO\n",
      "TECH\n",
      "BIIB\n",
      "BLK\n",
      "BX\n",
      "BA\n",
      "BKNG\n",
      "BWA\n",
      "BXP\n",
      "BSX\n",
      "BMY\n",
      "AVGO\n",
      "BR\n",
      "BRO\n",
      "BF.B\n",
      "BLDR\n",
      "BG\n",
      "CDNS\n",
      "CZR\n",
      "CPT\n",
      "CPB\n",
      "COF\n",
      "CAH\n",
      "KMX\n",
      "CCL\n",
      "CARR\n",
      "CTLT\n",
      "CAT\n",
      "CBOE\n",
      "CBRE\n",
      "CDW\n",
      "CE\n",
      "COR\n",
      "CNC\n",
      "CNP\n",
      "CF\n",
      "CHRW\n",
      "CRL\n",
      "SCHW\n",
      "CHTR\n",
      "CVX\n",
      "CMG\n",
      "CB\n",
      "CHD\n",
      "CI\n",
      "CINF\n",
      "CTAS\n",
      "CSCO\n",
      "C\n",
      "CFG\n",
      "CLX\n",
      "CME\n",
      "CMS\n",
      "KO\n",
      "CTSH\n",
      "CL\n",
      "CMCSA\n",
      "CAG\n",
      "COP\n",
      "ED\n",
      "STZ\n",
      "CEG\n",
      "COO\n",
      "CPRT\n",
      "GLW\n",
      "CPAY\n",
      "CTVA\n",
      "CSGP\n",
      "COST\n",
      "CTRA\n",
      "CRWD\n",
      "CCI\n",
      "CSX\n",
      "CMI\n",
      "CVS\n",
      "DHR\n",
      "DRI\n",
      "DVA\n",
      "DAY\n",
      "DECK\n",
      "DE\n",
      "DAL\n",
      "DVN\n",
      "DXCM\n",
      "FANG\n",
      "DLR\n",
      "DFS\n",
      "DG\n",
      "DLTR\n",
      "D\n",
      "DPZ\n",
      "DOV\n",
      "DOW\n",
      "DHI\n",
      "DTE\n",
      "DUK\n",
      "DD\n",
      "EMN\n",
      "ETN\n",
      "EBAY\n",
      "ECL\n",
      "EIX\n",
      "EW\n",
      "EA\n",
      "ELV\n",
      "LLY\n",
      "EMR\n",
      "ENPH\n",
      "ETR\n",
      "EOG\n",
      "EPAM\n",
      "EQT\n",
      "EFX\n",
      "EQIX\n",
      "EQR\n",
      "ESS\n",
      "EL\n",
      "ETSY\n",
      "EG\n",
      "EVRG\n",
      "ES\n",
      "EXC\n",
      "EXPE\n",
      "EXPD\n",
      "EXR\n",
      "XOM\n",
      "FFIV\n",
      "FDS\n",
      "FICO\n",
      "FAST\n",
      "FRT\n",
      "FDX\n",
      "FIS\n",
      "FITB\n",
      "FSLR\n",
      "FE\n",
      "FI\n",
      "FMC\n",
      "F\n",
      "FTNT\n",
      "FTV\n",
      "FOXA\n",
      "FOX\n",
      "BEN\n",
      "FCX\n",
      "GRMN\n",
      "IT\n",
      "GE\n",
      "GEHC\n",
      "GEV\n",
      "GEN\n",
      "GNRC\n",
      "GD\n",
      "GIS\n",
      "GM\n",
      "GPC\n",
      "GILD\n",
      "GPN\n",
      "GL\n",
      "GDDY\n",
      "GS\n",
      "HAL\n",
      "HIG\n",
      "HAS\n",
      "HCA\n",
      "DOC\n",
      "HSIC\n",
      "HSY\n",
      "HES\n",
      "HPE\n",
      "HLT\n",
      "HOLX\n",
      "HD\n",
      "HON\n",
      "HRL\n",
      "HST\n",
      "HWM\n",
      "HPQ\n",
      "HUBB\n",
      "HUM\n",
      "HBAN\n",
      "HII\n",
      "IBM\n",
      "IEX\n",
      "IDXX\n",
      "ITW\n",
      "INCY\n",
      "IR\n",
      "PODD\n",
      "INTC\n",
      "ICE\n",
      "IFF\n",
      "IP\n",
      "IPG\n",
      "INTU\n",
      "ISRG\n",
      "IVZ\n",
      "INVH\n",
      "IQV\n",
      "IRM\n",
      "JBHT\n",
      "JBL\n",
      "JKHY\n",
      "J\n",
      "JNJ\n",
      "JCI\n",
      "JPM\n",
      "JNPR\n",
      "K\n",
      "KVUE\n",
      "KDP\n",
      "KEY\n",
      "KEYS\n",
      "KMB\n",
      "KIM\n",
      "KMI\n",
      "KKR\n",
      "KLAC\n",
      "KHC\n",
      "KR\n",
      "LHX\n",
      "LH\n",
      "LRCX\n",
      "LW\n",
      "LVS\n",
      "LDOS\n",
      "LEN\n",
      "LIN\n",
      "LYV\n",
      "LKQ\n",
      "LMT\n",
      "L\n",
      "LOW\n",
      "LULU\n",
      "LYB\n",
      "MTB\n",
      "MRO\n",
      "MPC\n",
      "MKTX\n",
      "MAR\n",
      "MMC\n",
      "MLM\n",
      "MAS\n",
      "MA\n",
      "MTCH\n",
      "MKC\n",
      "MCD\n",
      "MCK\n",
      "MDT\n",
      "MRK\n",
      "META\n",
      "MET\n",
      "MTD\n",
      "MGM\n",
      "MCHP\n",
      "MU\n",
      "MSFT\n",
      "MAA\n",
      "MRNA\n",
      "MHK\n",
      "MOH\n",
      "TAP\n",
      "MDLZ\n",
      "MPWR\n",
      "MNST\n",
      "MCO\n",
      "MS\n",
      "MOS\n",
      "MSI\n",
      "MSCI\n",
      "NDAQ\n",
      "NTAP\n",
      "NFLX\n",
      "NEM\n",
      "NWSA\n",
      "NWS\n",
      "NEE\n",
      "NKE\n",
      "NI\n",
      "NDSN\n",
      "NSC\n",
      "NTRS\n",
      "NOC\n",
      "NCLH\n",
      "NRG\n",
      "NUE\n",
      "NVDA\n",
      "NVR\n",
      "NXPI\n",
      "ORLY\n",
      "OXY\n",
      "ODFL\n",
      "OMC\n",
      "ON\n",
      "OKE\n",
      "ORCL\n",
      "OTIS\n",
      "PCAR\n",
      "PKG\n",
      "PANW\n",
      "PARA\n",
      "PH\n",
      "PAYX\n",
      "PAYC\n",
      "PYPL\n",
      "PNR\n",
      "PEP\n",
      "PFE\n",
      "PCG\n",
      "PM\n",
      "PSX\n",
      "PNW\n",
      "PNC\n",
      "POOL\n",
      "PPG\n",
      "PPL\n",
      "PFG\n",
      "PG\n",
      "PGR\n",
      "PLD\n",
      "PRU\n",
      "PEG\n",
      "PTC\n",
      "PSA\n",
      "PHM\n",
      "QRVO\n",
      "PWR\n",
      "QCOM\n",
      "DGX\n",
      "RL\n",
      "RJF\n",
      "RTX\n",
      "O\n",
      "REG\n",
      "REGN\n",
      "RF\n",
      "RSG\n",
      "RMD\n",
      "RVTY\n",
      "ROK\n",
      "ROL\n",
      "ROP\n",
      "ROST\n",
      "RCL\n",
      "SPGI\n",
      "CRM\n",
      "SBAC\n",
      "SLB\n",
      "STX\n",
      "SRE\n",
      "NOW\n",
      "SHW\n",
      "SPG\n",
      "SWKS\n",
      "SJM\n",
      "SNA\n",
      "SOLV\n",
      "SO\n",
      "LUV\n",
      "SWK\n",
      "SBUX\n",
      "STT\n",
      "STLD\n",
      "STE\n",
      "SYK\n",
      "SMCI\n",
      "SYF\n",
      "SNPS\n",
      "SYY\n",
      "TMUS\n",
      "TROW\n",
      "TTWO\n",
      "TPR\n",
      "TRGP\n",
      "TGT\n",
      "TEL\n",
      "TDY\n",
      "TFX\n",
      "TER\n",
      "TSLA\n",
      "TXN\n",
      "TXT\n",
      "TMO\n",
      "TJX\n",
      "TSCO\n",
      "TT\n",
      "TDG\n",
      "TRV\n",
      "TRMB\n",
      "TFC\n",
      "TYL\n",
      "TSN\n",
      "USB\n",
      "UBER\n",
      "UDR\n",
      "ULTA\n",
      "UNP\n",
      "UAL\n",
      "UPS\n",
      "URI\n",
      "UNH\n",
      "UHS\n",
      "VLO\n",
      "VTR\n",
      "VLTO\n",
      "VRSN\n",
      "VRSK\n",
      "VZ\n",
      "VRTX\n",
      "VTRS\n",
      "VICI\n",
      "V\n",
      "VST\n",
      "VMC\n",
      "WRB\n",
      "GWW\n",
      "WAB\n",
      "WBA\n",
      "WMT\n",
      "DIS\n",
      "WBD\n",
      "WM\n",
      "WAT\n",
      "WEC\n",
      "WFC\n",
      "WELL\n",
      "WST\n",
      "WDC\n",
      "WRK\n",
      "WY\n",
      "WMB\n",
      "WTW\n",
      "WYNN\n",
      "XEL\n",
      "XYL\n",
      "YUM\n",
      "ZBRA\n",
      "ZBH\n",
      "ZTS\n"
     ]
    }
   ],
   "source": [
    "# Fetch additional information from Yahoo Finance\n",
    "sectors = []\n",
    "industries = []\n",
    "prices = []\n",
    "for ticker in tickers:\n",
    "    print(ticker)\n",
    "    tickerdata = yf.Ticker(ticker)\n",
    "    try:\n",
    "        prices.append(tickerdata.info['currentPrice'])\n",
    "        sectors.append(tickerdata.info['sector'])\n",
    "        industries.append(tickerdata.info['industry'])\n",
    "    except KeyError:\n",
    "        prices.append(None)\n",
    "        sectors.append(None)\n",
    "        industries.append(None)"
   ]
  },
  {
   "cell_type": "markdown",
   "metadata": {},
   "source": [
    "### <font color='green'>Combine the Information Above and the Corresponding Tickers into a DataFrame</font>"
   ]
  },
  {
   "cell_type": "code",
   "execution_count": 10,
   "metadata": {},
   "outputs": [],
   "source": [
    "# Create dataframe with additional information\n",
    "d = {'Sector': sectors, 'Industry': industries, 'Price': prices}\n",
    "df_info = pd.DataFrame(data=d, index=tickers)"
   ]
  },
  {
   "cell_type": "markdown",
   "metadata": {},
   "source": [
    "### <font color='green'>Join all the Information into a Single DataFrame</font>"
   ]
  },
  {
   "cell_type": "code",
   "execution_count": 11,
   "metadata": {},
   "outputs": [
    {
     "data": {
      "text/html": [
       "<div>\n",
       "<style scoped>\n",
       "    .dataframe tbody tr th:only-of-type {\n",
       "        vertical-align: middle;\n",
       "    }\n",
       "\n",
       "    .dataframe tbody tr th {\n",
       "        vertical-align: top;\n",
       "    }\n",
       "\n",
       "    .dataframe thead th {\n",
       "        text-align: right;\n",
       "    }\n",
       "</style>\n",
       "<table border=\"1\" class=\"dataframe\">\n",
       "  <thead>\n",
       "    <tr style=\"text-align: right;\">\n",
       "      <th></th>\n",
       "      <th>ticker</th>\n",
       "      <th>Negative</th>\n",
       "      <th>Neutral</th>\n",
       "      <th>Positive</th>\n",
       "      <th>Sentiment Score</th>\n",
       "      <th>Sector</th>\n",
       "      <th>Industry</th>\n",
       "      <th>Price</th>\n",
       "    </tr>\n",
       "  </thead>\n",
       "  <tbody>\n",
       "    <tr>\n",
       "      <th>0</th>\n",
       "      <td>A</td>\n",
       "      <td>0.01648</td>\n",
       "      <td>0.88186</td>\n",
       "      <td>0.10166</td>\n",
       "      <td>0.141734</td>\n",
       "      <td>Healthcare</td>\n",
       "      <td>Diagnostics &amp; Research</td>\n",
       "      <td>129.63</td>\n",
       "    </tr>\n",
       "    <tr>\n",
       "      <th>1</th>\n",
       "      <td>AAL</td>\n",
       "      <td>0.10006</td>\n",
       "      <td>0.79991</td>\n",
       "      <td>0.10002</td>\n",
       "      <td>0.000527</td>\n",
       "      <td>Industrials</td>\n",
       "      <td>Airlines</td>\n",
       "      <td>11.33</td>\n",
       "    </tr>\n",
       "    <tr>\n",
       "      <th>2</th>\n",
       "      <td>AAPL</td>\n",
       "      <td>0.03831</td>\n",
       "      <td>0.83068</td>\n",
       "      <td>0.13100</td>\n",
       "      <td>0.183216</td>\n",
       "      <td>Technology</td>\n",
       "      <td>Consumer Electronics</td>\n",
       "      <td>210.62</td>\n",
       "    </tr>\n",
       "    <tr>\n",
       "      <th>3</th>\n",
       "      <td>ABBV</td>\n",
       "      <td>0.03019</td>\n",
       "      <td>0.83570</td>\n",
       "      <td>0.13410</td>\n",
       "      <td>0.179221</td>\n",
       "      <td>Healthcare</td>\n",
       "      <td>Drug Manufacturers - General</td>\n",
       "      <td>171.52</td>\n",
       "    </tr>\n",
       "    <tr>\n",
       "      <th>4</th>\n",
       "      <td>ABNB</td>\n",
       "      <td>0.03938</td>\n",
       "      <td>0.82742</td>\n",
       "      <td>0.13319</td>\n",
       "      <td>0.157043</td>\n",
       "      <td>Consumer Cyclical</td>\n",
       "      <td>Travel Services</td>\n",
       "      <td>151.63</td>\n",
       "    </tr>\n",
       "    <tr>\n",
       "      <th>...</th>\n",
       "      <td>...</td>\n",
       "      <td>...</td>\n",
       "      <td>...</td>\n",
       "      <td>...</td>\n",
       "      <td>...</td>\n",
       "      <td>...</td>\n",
       "      <td>...</td>\n",
       "      <td>...</td>\n",
       "    </tr>\n",
       "    <tr>\n",
       "      <th>496</th>\n",
       "      <td>XYL</td>\n",
       "      <td>0.00647</td>\n",
       "      <td>0.87191</td>\n",
       "      <td>0.12163</td>\n",
       "      <td>0.184680</td>\n",
       "      <td>Industrials</td>\n",
       "      <td>Specialty Industrial Machinery</td>\n",
       "      <td>135.63</td>\n",
       "    </tr>\n",
       "    <tr>\n",
       "      <th>497</th>\n",
       "      <td>YUM</td>\n",
       "      <td>0.01760</td>\n",
       "      <td>0.89278</td>\n",
       "      <td>0.08961</td>\n",
       "      <td>0.139354</td>\n",
       "      <td>Consumer Cyclical</td>\n",
       "      <td>Restaurants</td>\n",
       "      <td>132.46</td>\n",
       "    </tr>\n",
       "    <tr>\n",
       "      <th>498</th>\n",
       "      <td>ZBH</td>\n",
       "      <td>0.00922</td>\n",
       "      <td>0.91351</td>\n",
       "      <td>0.07726</td>\n",
       "      <td>0.125536</td>\n",
       "      <td>Healthcare</td>\n",
       "      <td>Medical Devices</td>\n",
       "      <td>108.53</td>\n",
       "    </tr>\n",
       "    <tr>\n",
       "      <th>499</th>\n",
       "      <td>ZBRA</td>\n",
       "      <td>0.00899</td>\n",
       "      <td>0.89448</td>\n",
       "      <td>0.09653</td>\n",
       "      <td>0.146205</td>\n",
       "      <td>Technology</td>\n",
       "      <td>Communication Equipment</td>\n",
       "      <td>308.93</td>\n",
       "    </tr>\n",
       "    <tr>\n",
       "      <th>500</th>\n",
       "      <td>ZTS</td>\n",
       "      <td>0.04072</td>\n",
       "      <td>0.86099</td>\n",
       "      <td>0.09828</td>\n",
       "      <td>0.090078</td>\n",
       "      <td>Healthcare</td>\n",
       "      <td>Drug Manufacturers - Specialty &amp; Generic</td>\n",
       "      <td>173.36</td>\n",
       "    </tr>\n",
       "  </tbody>\n",
       "</table>\n",
       "<p>501 rows × 8 columns</p>\n",
       "</div>"
      ],
      "text/plain": [
       "    ticker  Negative  Neutral  Positive  Sentiment Score             Sector  \\\n",
       "0        A   0.01648  0.88186   0.10166         0.141734         Healthcare   \n",
       "1      AAL   0.10006  0.79991   0.10002         0.000527        Industrials   \n",
       "2     AAPL   0.03831  0.83068   0.13100         0.183216         Technology   \n",
       "3     ABBV   0.03019  0.83570   0.13410         0.179221         Healthcare   \n",
       "4     ABNB   0.03938  0.82742   0.13319         0.157043  Consumer Cyclical   \n",
       "..     ...       ...      ...       ...              ...                ...   \n",
       "496    XYL   0.00647  0.87191   0.12163         0.184680        Industrials   \n",
       "497    YUM   0.01760  0.89278   0.08961         0.139354  Consumer Cyclical   \n",
       "498    ZBH   0.00922  0.91351   0.07726         0.125536         Healthcare   \n",
       "499   ZBRA   0.00899  0.89448   0.09653         0.146205         Technology   \n",
       "500    ZTS   0.04072  0.86099   0.09828         0.090078         Healthcare   \n",
       "\n",
       "                                     Industry   Price  \n",
       "0                      Diagnostics & Research  129.63  \n",
       "1                                    Airlines   11.33  \n",
       "2                        Consumer Electronics  210.62  \n",
       "3                Drug Manufacturers - General  171.52  \n",
       "4                             Travel Services  151.63  \n",
       "..                                        ...     ...  \n",
       "496            Specialty Industrial Machinery  135.63  \n",
       "497                               Restaurants  132.46  \n",
       "498                           Medical Devices  108.53  \n",
       "499                   Communication Equipment  308.93  \n",
       "500  Drug Manufacturers - Specialty & Generic  173.36  \n",
       "\n",
       "[501 rows x 8 columns]"
      ]
     },
     "execution_count": 11,
     "metadata": {},
     "output_type": "execute_result"
    }
   ],
   "source": [
    "# Merge sentiment scores and stock information\n",
    "df = mean_scores.join(df_info)\n",
    "df = df.rename(columns={\"compound\": \"Sentiment Score\", \"neg\": \"Negative\", \"neu\": \"Neutral\", \"pos\": \"Positive\"})\n",
    "df = df.reset_index()\n",
    "df"
   ]
  },
  {
   "cell_type": "markdown",
   "metadata": {},
   "source": [
    "### <font color='green'>Choose between Most Positive or Most Negative Stocks' Sentiment Score</font>"
   ]
  },
  {
   "cell_type": "code",
   "execution_count": 21,
   "metadata": {},
   "outputs": [],
   "source": [
    "# Define the function to filter sentiment scores\n",
    "def filter_tickers(df, choice, num_of_company=5):\n",
    "    filtered_df = pd.DataFrame()\n",
    "    sectors = df['Sector'].unique()\n",
    "    \n",
    "    for sector in sectors:\n",
    "        sector_df = df[df['Sector'] == sector]\n",
    "        if choice == 'most positive':\n",
    "            top_stocks = sector_df.nlargest(num_of_company, 'Sentiment Score')\n",
    "        elif choice == 'most negative':\n",
    "            top_stocks = sector_df.nsmallest(num_of_company, 'Sentiment Score')\n",
    "        filtered_df = pd.concat([filtered_df, top_stocks])\n",
    "    \n",
    "    return filtered_df\n",
    "\n",
    "# Choose between most positive and most negative\n",
    "choice = 'most negative' \n",
    "filtered_df = filter_tickers(df, choice)\n",
    "filtered_df = filtered_df.reset_index(drop=True)"
   ]
  },
  {
   "cell_type": "markdown",
   "metadata": {},
   "source": [
    "### The Final Treemap"
   ]
  },
  {
   "cell_type": "code",
   "execution_count": 22,
   "metadata": {},
   "outputs": [
    {
     "data": {
      "application/vnd.plotly.v1+json": {
       "config": {
        "plotlyServerURL": "https://plot.ly"
       },
       "data": [
        {
         "branchvalues": "total",
         "customdata": [
          [
           136.88,
           0.043,
           0.914,
           0.043,
           -0.014
          ],
          [
           104.86,
           0.026,
           0.93,
           0.044,
           0.038
          ],
          [
           273.11,
           0.029,
           0.916,
           0.055,
           0.039
          ],
          [
           1397.59,
           0.02,
           0.936,
           0.044,
           0.043
          ],
          [
           52.88,
           0.069,
           0.825,
           0.106,
           0.044
          ],
          [
           213.34,
           0.154,
           0.756,
           0.09,
           -0.078
          ],
          [
           182.01,
           0.108,
           0.809,
           0.083,
           -0.05
          ],
          [
           88.12,
           0.061,
           0.897,
           0.042,
           -0.03
          ],
          [
           11.33,
           0.1,
           0.8,
           0.1,
           0.001
          ],
          [
           28.61,
           0.07,
           0.863,
           0.067,
           0.012
          ],
          [
           131.53,
           0.056,
           0.858,
           0.086,
           0.06
          ],
          [
           269.09,
           0.016,
           0.926,
           0.058,
           0.068
          ],
          [
           194.53,
           0.035,
           0.884,
           0.08,
           0.07
          ],
          [
           228.26,
           0.028,
           0.903,
           0.069,
           0.07
          ],
          [
           350.48,
           0.045,
           0.87,
           0.085,
           0.071
          ],
          [
           75.37,
           0.084,
           0.872,
           0.044,
           -0.06
          ],
          [
           58.98,
           0.055,
           0.894,
           0.051,
           -0.005
          ],
          [
           43.15,
           0.015,
           0.951,
           0.034,
           0.031
          ],
          [
           151.32,
           0.057,
           0.872,
           0.071,
           0.035
          ],
          [
           42.79,
           0.062,
           0.859,
           0.079,
           0.036
          ],
          [
           82.28,
           0.103,
           0.818,
           0.079,
           -0.107
          ],
          [
           262.14,
           0.041,
           0.884,
           0.075,
           0.065
          ],
          [
           151.36,
           0.039,
           0.886,
           0.075,
           0.074
          ],
          [
           38.85,
           0.037,
           0.888,
           0.075,
           0.074
          ],
          [
           420.93,
           0.024,
           0.903,
           0.073,
           0.08
          ],
          [
           106.77,
           0.043,
           0.916,
           0.041,
           -0.003
          ],
          [
           57.14,
           0.085,
           0.824,
           0.091,
           0.031
          ],
          [
           132.23,
           0.058,
           0.859,
           0.083,
           0.047
          ],
          [
           18.18,
           0.043,
           0.879,
           0.078,
           0.05
          ],
          [
           45.19,
           0.031,
           0.9,
           0.069,
           0.059
          ],
          [
           52.97,
           0.033,
           0.91,
           0.057,
           0.034
          ],
          [
           89.42,
           0.022,
           0.915,
           0.063,
           0.064
          ],
          [
           171.51,
           0.053,
           0.849,
           0.098,
           0.065
          ],
          [
           28.81,
           0.016,
           0.921,
           0.063,
           0.086
          ],
          [
           73.7,
           0.015,
           0.922,
           0.064,
           0.089
          ],
          [
           57.55,
           0.053,
           0.887,
           0.06,
           0.003
          ],
          [
           74.12,
           0.044,
           0.9,
           0.056,
           0.022
          ],
          [
           134.89,
           0.035,
           0.903,
           0.062,
           0.056
          ],
          [
           28.9,
           0.041,
           0.88,
           0.079,
           0.075
          ],
          [
           95.21,
           0.015,
           0.908,
           0.076,
           0.09
          ],
          [
           61.56,
           0.032,
           0.891,
           0.077,
           0.075
          ],
          [
           35.89,
           0.02,
           0.916,
           0.064,
           0.077
          ],
          [
           287.65,
           0.016,
           0.92,
           0.064,
           0.079
          ],
          [
           196.3,
           0.022,
           0.919,
           0.059,
           0.079
          ],
          [
           41.15,
           0.021,
           0.914,
           0.065,
           0.084
          ],
          [
           35.17,
           0.078,
           0.821,
           0.102,
           0.078
          ],
          [
           141.17,
           0.041,
           0.863,
           0.096,
           0.094
          ],
          [
           36.98,
           0.037,
           0.862,
           0.101,
           0.095
          ],
          [
           173.48,
           0.027,
           0.89,
           0.083,
           0.099
          ],
          [
           28.67,
           0.018,
           0.897,
           0.086,
           0.105
          ],
          [
           30.38,
           0.061,
           0.878,
           0.061,
           0.005
          ],
          [
           34.37,
           0.033,
           0.904,
           0.063,
           0.037
          ],
          [
           7.44,
           0.044,
           0.884,
           0.072,
           0.04
          ],
          [
           32.02,
           0.033,
           0.9,
           0.067,
           0.042
          ],
          [
           10.39,
           0.062,
           0.846,
           0.092,
           0.058
          ]
         ],
         "domain": {
          "x": [
           0,
           1
          ],
          "y": [
           0,
           1
          ]
         },
         "hovertemplate": "labels=%{label}<br>count=%{value}<br>parent=%{parent}<br>id=%{id}<br>Price=%{customdata[0]}<br>Negative=%{customdata[1]}<br>Neutral=%{customdata[2]}<br>Positive=%{customdata[3]}<br>Sentiment Score=%{color}<extra></extra>",
         "ids": [
          "Sectors/Industrials/Airlines/AAL",
          "Sectors/Technology/Semiconductors/ADI",
          "Sectors/Technology/Computer Hardware/ANET",
          "Sectors/Industrials/Aerospace & Defense/BA",
          "Sectors/Healthcare/Medical Devices/BIO",
          "Sectors/Energy/Oil & Gas Equipment & Services/BKR",
          "Sectors/Real Estate/REIT - Office/BXP",
          "Sectors/Basic Materials/Chemicals/CE",
          "Sectors/Basic Materials/Agricultural Inputs/CF",
          "Sectors/Industrials/Integrated Freight & Logistics/CHRW",
          "Sectors/Consumer Defensive/Packaged Foods/CPB",
          "Sectors/Consumer Defensive/Discount Stores/DG",
          "Sectors/Healthcare/Diagnostics & Research/DGX",
          "Sectors/Consumer Defensive/Discount Stores/DLTR",
          "Sectors/Consumer Cyclical/Restaurants/DRI",
          "Sectors/Utilities/Utilities - Regulated Electric/ED",
          "Sectors/Energy/Oil & Gas E&P/EQT",
          "Sectors/Consumer Cyclical/Internet Retail/ETSY",
          "Sectors/Utilities/Utilities - Regulated Electric/EVRG",
          "Sectors/Basic Materials/Agricultural Inputs/FMC",
          "Sectors/Communication Services/Entertainment/FOX",
          "Sectors/Communication Services/Entertainment/FOXA",
          "Sectors/Utilities/Utilities - Renewable/GEV",
          "Sectors/Financial Services/Insurance - Life/GL",
          "Sectors/Basic Materials/Specialty Chemicals/IFF",
          "Sectors/Real Estate/REIT - Residential/INVH",
          "Sectors/Consumer Cyclical/Packaging & Containers/IP",
          "Sectors/Consumer Defensive/Household & Personal Products/KVUE",
          "Sectors/Industrials/Airlines/LUV",
          "Sectors/Financial Services/Financial Data & Stock Exchanges/MCO",
          "Sectors/Basic Materials/Agricultural Inputs/MOS",
          "Sectors/Energy/Oil & Gas Refining & Marketing/MPC",
          "Sectors/Energy/Oil & Gas E&P/MRO",
          "Sectors/Financial Services/Banks - Regional/MTB",
          "Sectors/Communication Services/Internet Content & Information/MTCH",
          "Sectors/Healthcare/Diagnostics & Research/MTD",
          "Sectors/Technology/Semiconductors/MU",
          "Sectors/Utilities/Utilities - Regulated Gas/NI",
          "Sectors/Consumer Cyclical/Footwear & Accessories/NKE",
          "Sectors/Technology/Semiconductors/NXPI",
          "Sectors/Communication Services/Entertainment/PARA",
          "Sectors/Utilities/Utilities - Regulated Electric/PEG",
          "Sectors/Real Estate/REIT - Industrial/PSA",
          "Sectors/Energy/Oil & Gas Refining & Marketing/PSX",
          "Sectors/Healthcare/Diagnostics & Research/RVTY",
          "Sectors/Real Estate/REIT - Specialty/SBAC",
          "Sectors/Healthcare/Health Information Services/SOLV",
          "Sectors/Financial Services/Banks - Regional/TFC",
          "Sectors/Consumer Cyclical/Luxury Goods/TPR",
          "Sectors/Consumer Defensive/Farm Products/TSN",
          "Sectors/Technology/Semiconductors/TXN",
          "Sectors/Real Estate/REIT - Residential/UDR",
          "Sectors/Communication Services/Entertainment/WBD",
          "Sectors/Industrials/Waste Management/WM",
          "Sectors/Financial Services/Insurance Brokers/WTW",
          "Sectors/Industrials/Aerospace & Defense",
          "Sectors/Basic Materials/Agricultural Inputs",
          "Sectors/Industrials/Airlines",
          "Sectors/Financial Services/Banks - Regional",
          "Sectors/Basic Materials/Chemicals",
          "Sectors/Technology/Computer Hardware",
          "Sectors/Healthcare/Diagnostics & Research",
          "Sectors/Consumer Defensive/Discount Stores",
          "Sectors/Communication Services/Entertainment",
          "Sectors/Consumer Defensive/Farm Products",
          "Sectors/Financial Services/Financial Data & Stock Exchanges",
          "Sectors/Consumer Cyclical/Footwear & Accessories",
          "Sectors/Healthcare/Health Information Services",
          "Sectors/Consumer Defensive/Household & Personal Products",
          "Sectors/Financial Services/Insurance - Life",
          "Sectors/Financial Services/Insurance Brokers",
          "Sectors/Industrials/Integrated Freight & Logistics",
          "Sectors/Communication Services/Internet Content & Information",
          "Sectors/Consumer Cyclical/Internet Retail",
          "Sectors/Consumer Cyclical/Luxury Goods",
          "Sectors/Healthcare/Medical Devices",
          "Sectors/Energy/Oil & Gas E&P",
          "Sectors/Energy/Oil & Gas Equipment & Services",
          "Sectors/Energy/Oil & Gas Refining & Marketing",
          "Sectors/Consumer Defensive/Packaged Foods",
          "Sectors/Consumer Cyclical/Packaging & Containers",
          "Sectors/Real Estate/REIT - Industrial",
          "Sectors/Real Estate/REIT - Office",
          "Sectors/Real Estate/REIT - Residential",
          "Sectors/Real Estate/REIT - Specialty",
          "Sectors/Consumer Cyclical/Restaurants",
          "Sectors/Technology/Semiconductors",
          "Sectors/Basic Materials/Specialty Chemicals",
          "Sectors/Utilities/Utilities - Regulated Electric",
          "Sectors/Utilities/Utilities - Regulated Gas",
          "Sectors/Utilities/Utilities - Renewable",
          "Sectors/Industrials/Waste Management",
          "Sectors/Basic Materials",
          "Sectors/Communication Services",
          "Sectors/Consumer Cyclical",
          "Sectors/Consumer Defensive",
          "Sectors/Energy",
          "Sectors/Financial Services",
          "Sectors/Healthcare",
          "Sectors/Industrials",
          "Sectors/Real Estate",
          "Sectors/Technology",
          "Sectors/Utilities",
          "Sectors"
         ],
         "labels": [
          "AAL",
          "ADI",
          "ANET",
          "BA",
          "BIO",
          "BKR",
          "BXP",
          "CE",
          "CF",
          "CHRW",
          "CPB",
          "DG",
          "DGX",
          "DLTR",
          "DRI",
          "ED",
          "EQT",
          "ETSY",
          "EVRG",
          "FMC",
          "FOX",
          "FOXA",
          "GEV",
          "GL",
          "IFF",
          "INVH",
          "IP",
          "KVUE",
          "LUV",
          "MCO",
          "MOS",
          "MPC",
          "MRO",
          "MTB",
          "MTCH",
          "MTD",
          "MU",
          "NI",
          "NKE",
          "NXPI",
          "PARA",
          "PEG",
          "PSA",
          "PSX",
          "RVTY",
          "SBAC",
          "SOLV",
          "TFC",
          "TPR",
          "TSN",
          "TXN",
          "UDR",
          "WBD",
          "WM",
          "WTW",
          "Aerospace & Defense",
          "Agricultural Inputs",
          "Airlines",
          "Banks - Regional",
          "Chemicals",
          "Computer Hardware",
          "Diagnostics & Research",
          "Discount Stores",
          "Entertainment",
          "Farm Products",
          "Financial Data & Stock Exchanges",
          "Footwear & Accessories",
          "Health Information Services",
          "Household & Personal Products",
          "Insurance - Life",
          "Insurance Brokers",
          "Integrated Freight & Logistics",
          "Internet Content & Information",
          "Internet Retail",
          "Luxury Goods",
          "Medical Devices",
          "Oil & Gas E&P",
          "Oil & Gas Equipment & Services",
          "Oil & Gas Refining & Marketing",
          "Packaged Foods",
          "Packaging & Containers",
          "REIT - Industrial",
          "REIT - Office",
          "REIT - Residential",
          "REIT - Specialty",
          "Restaurants",
          "Semiconductors",
          "Specialty Chemicals",
          "Utilities - Regulated Electric",
          "Utilities - Regulated Gas",
          "Utilities - Renewable",
          "Waste Management",
          "Basic Materials",
          "Communication Services",
          "Consumer Cyclical",
          "Consumer Defensive",
          "Energy",
          "Financial Services",
          "Healthcare",
          "Industrials",
          "Real Estate",
          "Technology",
          "Utilities",
          "Sectors"
         ],
         "marker": {
          "coloraxis": "coloraxis",
          "colors": [
           0.0005270000000000058,
           0.069616,
           0.070718,
           -0.049595,
           0.039162,
           0.077783,
           0.075074,
           0.055527,
           0.022105,
           -0.030425999999999998,
           0.059411000000000005,
           0.046772,
           -0.014108999999999998,
           -0.0030770000000000016,
           0.035129,
           0.064128,
           0.09504699999999999,
           -0.004802999999999998,
           0.034188,
           0.002804000000000001,
           0.041856,
           0.036921999999999996,
           0.0651079365079365,
           -0.106714,
           0.089945,
           0.077339,
           0.030719000000000003,
           0.049745,
           0.011922000000000002,
           0.080219,
           0.075484,
           0.098783,
           0.10481,
           0.073599,
           0.0046999999999999984,
           0.042621,
           0.060169,
           0.085933,
           -0.060081999999999997,
           0.067576,
           0.057673,
           0.089358,
           0.07905999999999999,
           0.09356199999999999,
           0.038103,
           0.079317,
           0.043775,
           0.074291,
           0.036143,
           0.031349,
           0.069605,
           0.08398199999999999,
           0.040131999999999994,
           -0.07808899999999999,
           0.064535,
           -0.049595,
           0.03346433333333333,
           0.006224500000000004,
           0.073945,
           0.055527,
           0.070718,
           0.022205000000000003,
           0.0218475,
           0.04414575,
           0.031349,
           0.080219,
           -0.060081999999999997,
           0.043775,
           0.049745,
           -0.106714,
           0.064535,
           -0.030425999999999998,
           0.0046999999999999984,
           -0.004802999999999998,
           0.036143,
           0.039162,
           0.0999285,
           0.077783,
           0.0961725,
           0.059411000000000005,
           0.030719000000000003,
           0.07905999999999999,
           0.075074,
           0.0806605,
           0.079317,
           0.035129,
           0.0667415,
           0.089945,
           0.062558,
           0.085933,
           0.0651079365079365,
           -0.07808899999999999,
           0.049173,
           0.0362566,
           0.007421200000000001,
           0.03684,
           0.093997,
           0.037186,
           0.029910400000000004,
           -0.029132199999999997,
           0.07895440000000001,
           0.0675368,
           0.0677429873015873,
           0.04326238066378066
          ]
         },
         "name": "",
         "parents": [
          "Sectors/Industrials/Airlines",
          "Sectors/Technology/Semiconductors",
          "Sectors/Technology/Computer Hardware",
          "Sectors/Industrials/Aerospace & Defense",
          "Sectors/Healthcare/Medical Devices",
          "Sectors/Energy/Oil & Gas Equipment & Services",
          "Sectors/Real Estate/REIT - Office",
          "Sectors/Basic Materials/Chemicals",
          "Sectors/Basic Materials/Agricultural Inputs",
          "Sectors/Industrials/Integrated Freight & Logistics",
          "Sectors/Consumer Defensive/Packaged Foods",
          "Sectors/Consumer Defensive/Discount Stores",
          "Sectors/Healthcare/Diagnostics & Research",
          "Sectors/Consumer Defensive/Discount Stores",
          "Sectors/Consumer Cyclical/Restaurants",
          "Sectors/Utilities/Utilities - Regulated Electric",
          "Sectors/Energy/Oil & Gas E&P",
          "Sectors/Consumer Cyclical/Internet Retail",
          "Sectors/Utilities/Utilities - Regulated Electric",
          "Sectors/Basic Materials/Agricultural Inputs",
          "Sectors/Communication Services/Entertainment",
          "Sectors/Communication Services/Entertainment",
          "Sectors/Utilities/Utilities - Renewable",
          "Sectors/Financial Services/Insurance - Life",
          "Sectors/Basic Materials/Specialty Chemicals",
          "Sectors/Real Estate/REIT - Residential",
          "Sectors/Consumer Cyclical/Packaging & Containers",
          "Sectors/Consumer Defensive/Household & Personal Products",
          "Sectors/Industrials/Airlines",
          "Sectors/Financial Services/Financial Data & Stock Exchanges",
          "Sectors/Basic Materials/Agricultural Inputs",
          "Sectors/Energy/Oil & Gas Refining & Marketing",
          "Sectors/Energy/Oil & Gas E&P",
          "Sectors/Financial Services/Banks - Regional",
          "Sectors/Communication Services/Internet Content & Information",
          "Sectors/Healthcare/Diagnostics & Research",
          "Sectors/Technology/Semiconductors",
          "Sectors/Utilities/Utilities - Regulated Gas",
          "Sectors/Consumer Cyclical/Footwear & Accessories",
          "Sectors/Technology/Semiconductors",
          "Sectors/Communication Services/Entertainment",
          "Sectors/Utilities/Utilities - Regulated Electric",
          "Sectors/Real Estate/REIT - Industrial",
          "Sectors/Energy/Oil & Gas Refining & Marketing",
          "Sectors/Healthcare/Diagnostics & Research",
          "Sectors/Real Estate/REIT - Specialty",
          "Sectors/Healthcare/Health Information Services",
          "Sectors/Financial Services/Banks - Regional",
          "Sectors/Consumer Cyclical/Luxury Goods",
          "Sectors/Consumer Defensive/Farm Products",
          "Sectors/Technology/Semiconductors",
          "Sectors/Real Estate/REIT - Residential",
          "Sectors/Communication Services/Entertainment",
          "Sectors/Industrials/Waste Management",
          "Sectors/Financial Services/Insurance Brokers",
          "Sectors/Industrials",
          "Sectors/Basic Materials",
          "Sectors/Industrials",
          "Sectors/Financial Services",
          "Sectors/Basic Materials",
          "Sectors/Technology",
          "Sectors/Healthcare",
          "Sectors/Consumer Defensive",
          "Sectors/Communication Services",
          "Sectors/Consumer Defensive",
          "Sectors/Financial Services",
          "Sectors/Consumer Cyclical",
          "Sectors/Healthcare",
          "Sectors/Consumer Defensive",
          "Sectors/Financial Services",
          "Sectors/Financial Services",
          "Sectors/Industrials",
          "Sectors/Communication Services",
          "Sectors/Consumer Cyclical",
          "Sectors/Consumer Cyclical",
          "Sectors/Healthcare",
          "Sectors/Energy",
          "Sectors/Energy",
          "Sectors/Energy",
          "Sectors/Consumer Defensive",
          "Sectors/Consumer Cyclical",
          "Sectors/Real Estate",
          "Sectors/Real Estate",
          "Sectors/Real Estate",
          "Sectors/Real Estate",
          "Sectors/Consumer Cyclical",
          "Sectors/Technology",
          "Sectors/Basic Materials",
          "Sectors/Utilities",
          "Sectors/Utilities",
          "Sectors/Utilities",
          "Sectors/Industrials",
          "Sectors",
          "Sectors",
          "Sectors",
          "Sectors",
          "Sectors",
          "Sectors",
          "Sectors",
          "Sectors",
          "Sectors",
          "Sectors",
          "Sectors",
          ""
         ],
         "textposition": "middle center",
         "texttemplate": "%{label}<br>%{customdata[4]}",
         "type": "treemap",
         "values": [
          1,
          1,
          1,
          1,
          1,
          1,
          1,
          1,
          1,
          1,
          1,
          1,
          1,
          1,
          1,
          1,
          1,
          1,
          1,
          1,
          1,
          1,
          1,
          1,
          1,
          1,
          1,
          1,
          1,
          1,
          1,
          1,
          1,
          1,
          1,
          1,
          1,
          1,
          1,
          1,
          1,
          1,
          1,
          1,
          1,
          1,
          1,
          1,
          1,
          1,
          1,
          1,
          1,
          1,
          1,
          1,
          3,
          2,
          2,
          1,
          1,
          3,
          2,
          4,
          1,
          1,
          1,
          1,
          1,
          1,
          1,
          1,
          1,
          1,
          1,
          1,
          2,
          1,
          2,
          1,
          1,
          1,
          1,
          2,
          1,
          1,
          4,
          1,
          3,
          1,
          1,
          1,
          5,
          5,
          5,
          5,
          5,
          5,
          5,
          5,
          5,
          5,
          5,
          55
         ]
        }
       ],
       "layout": {
        "coloraxis": {
         "cmid": 0,
         "colorbar": {
          "title": {
           "text": "Sentiment Score"
          }
         },
         "colorscale": [
          [
           0,
           "#FF0000"
          ],
          [
           0.5,
           "#000000"
          ],
          [
           1,
           "#00FF00"
          ]
         ]
        },
        "font": {
         "size": 20
        },
        "legend": {
         "tracegroupgap": 0
        },
        "margin": {
         "b": 10,
         "l": 10,
         "r": 10,
         "t": 30
        },
        "template": {
         "data": {
          "bar": [
           {
            "error_x": {
             "color": "#2a3f5f"
            },
            "error_y": {
             "color": "#2a3f5f"
            },
            "marker": {
             "line": {
              "color": "#E5ECF6",
              "width": 0.5
             },
             "pattern": {
              "fillmode": "overlay",
              "size": 10,
              "solidity": 0.2
             }
            },
            "type": "bar"
           }
          ],
          "barpolar": [
           {
            "marker": {
             "line": {
              "color": "#E5ECF6",
              "width": 0.5
             },
             "pattern": {
              "fillmode": "overlay",
              "size": 10,
              "solidity": 0.2
             }
            },
            "type": "barpolar"
           }
          ],
          "carpet": [
           {
            "aaxis": {
             "endlinecolor": "#2a3f5f",
             "gridcolor": "white",
             "linecolor": "white",
             "minorgridcolor": "white",
             "startlinecolor": "#2a3f5f"
            },
            "baxis": {
             "endlinecolor": "#2a3f5f",
             "gridcolor": "white",
             "linecolor": "white",
             "minorgridcolor": "white",
             "startlinecolor": "#2a3f5f"
            },
            "type": "carpet"
           }
          ],
          "choropleth": [
           {
            "colorbar": {
             "outlinewidth": 0,
             "ticks": ""
            },
            "type": "choropleth"
           }
          ],
          "contour": [
           {
            "colorbar": {
             "outlinewidth": 0,
             "ticks": ""
            },
            "colorscale": [
             [
              0,
              "#0d0887"
             ],
             [
              0.1111111111111111,
              "#46039f"
             ],
             [
              0.2222222222222222,
              "#7201a8"
             ],
             [
              0.3333333333333333,
              "#9c179e"
             ],
             [
              0.4444444444444444,
              "#bd3786"
             ],
             [
              0.5555555555555556,
              "#d8576b"
             ],
             [
              0.6666666666666666,
              "#ed7953"
             ],
             [
              0.7777777777777778,
              "#fb9f3a"
             ],
             [
              0.8888888888888888,
              "#fdca26"
             ],
             [
              1,
              "#f0f921"
             ]
            ],
            "type": "contour"
           }
          ],
          "contourcarpet": [
           {
            "colorbar": {
             "outlinewidth": 0,
             "ticks": ""
            },
            "type": "contourcarpet"
           }
          ],
          "heatmap": [
           {
            "colorbar": {
             "outlinewidth": 0,
             "ticks": ""
            },
            "colorscale": [
             [
              0,
              "#0d0887"
             ],
             [
              0.1111111111111111,
              "#46039f"
             ],
             [
              0.2222222222222222,
              "#7201a8"
             ],
             [
              0.3333333333333333,
              "#9c179e"
             ],
             [
              0.4444444444444444,
              "#bd3786"
             ],
             [
              0.5555555555555556,
              "#d8576b"
             ],
             [
              0.6666666666666666,
              "#ed7953"
             ],
             [
              0.7777777777777778,
              "#fb9f3a"
             ],
             [
              0.8888888888888888,
              "#fdca26"
             ],
             [
              1,
              "#f0f921"
             ]
            ],
            "type": "heatmap"
           }
          ],
          "heatmapgl": [
           {
            "colorbar": {
             "outlinewidth": 0,
             "ticks": ""
            },
            "colorscale": [
             [
              0,
              "#0d0887"
             ],
             [
              0.1111111111111111,
              "#46039f"
             ],
             [
              0.2222222222222222,
              "#7201a8"
             ],
             [
              0.3333333333333333,
              "#9c179e"
             ],
             [
              0.4444444444444444,
              "#bd3786"
             ],
             [
              0.5555555555555556,
              "#d8576b"
             ],
             [
              0.6666666666666666,
              "#ed7953"
             ],
             [
              0.7777777777777778,
              "#fb9f3a"
             ],
             [
              0.8888888888888888,
              "#fdca26"
             ],
             [
              1,
              "#f0f921"
             ]
            ],
            "type": "heatmapgl"
           }
          ],
          "histogram": [
           {
            "marker": {
             "pattern": {
              "fillmode": "overlay",
              "size": 10,
              "solidity": 0.2
             }
            },
            "type": "histogram"
           }
          ],
          "histogram2d": [
           {
            "colorbar": {
             "outlinewidth": 0,
             "ticks": ""
            },
            "colorscale": [
             [
              0,
              "#0d0887"
             ],
             [
              0.1111111111111111,
              "#46039f"
             ],
             [
              0.2222222222222222,
              "#7201a8"
             ],
             [
              0.3333333333333333,
              "#9c179e"
             ],
             [
              0.4444444444444444,
              "#bd3786"
             ],
             [
              0.5555555555555556,
              "#d8576b"
             ],
             [
              0.6666666666666666,
              "#ed7953"
             ],
             [
              0.7777777777777778,
              "#fb9f3a"
             ],
             [
              0.8888888888888888,
              "#fdca26"
             ],
             [
              1,
              "#f0f921"
             ]
            ],
            "type": "histogram2d"
           }
          ],
          "histogram2dcontour": [
           {
            "colorbar": {
             "outlinewidth": 0,
             "ticks": ""
            },
            "colorscale": [
             [
              0,
              "#0d0887"
             ],
             [
              0.1111111111111111,
              "#46039f"
             ],
             [
              0.2222222222222222,
              "#7201a8"
             ],
             [
              0.3333333333333333,
              "#9c179e"
             ],
             [
              0.4444444444444444,
              "#bd3786"
             ],
             [
              0.5555555555555556,
              "#d8576b"
             ],
             [
              0.6666666666666666,
              "#ed7953"
             ],
             [
              0.7777777777777778,
              "#fb9f3a"
             ],
             [
              0.8888888888888888,
              "#fdca26"
             ],
             [
              1,
              "#f0f921"
             ]
            ],
            "type": "histogram2dcontour"
           }
          ],
          "mesh3d": [
           {
            "colorbar": {
             "outlinewidth": 0,
             "ticks": ""
            },
            "type": "mesh3d"
           }
          ],
          "parcoords": [
           {
            "line": {
             "colorbar": {
              "outlinewidth": 0,
              "ticks": ""
             }
            },
            "type": "parcoords"
           }
          ],
          "pie": [
           {
            "automargin": true,
            "type": "pie"
           }
          ],
          "scatter": [
           {
            "fillpattern": {
             "fillmode": "overlay",
             "size": 10,
             "solidity": 0.2
            },
            "type": "scatter"
           }
          ],
          "scatter3d": [
           {
            "line": {
             "colorbar": {
              "outlinewidth": 0,
              "ticks": ""
             }
            },
            "marker": {
             "colorbar": {
              "outlinewidth": 0,
              "ticks": ""
             }
            },
            "type": "scatter3d"
           }
          ],
          "scattercarpet": [
           {
            "marker": {
             "colorbar": {
              "outlinewidth": 0,
              "ticks": ""
             }
            },
            "type": "scattercarpet"
           }
          ],
          "scattergeo": [
           {
            "marker": {
             "colorbar": {
              "outlinewidth": 0,
              "ticks": ""
             }
            },
            "type": "scattergeo"
           }
          ],
          "scattergl": [
           {
            "marker": {
             "colorbar": {
              "outlinewidth": 0,
              "ticks": ""
             }
            },
            "type": "scattergl"
           }
          ],
          "scattermapbox": [
           {
            "marker": {
             "colorbar": {
              "outlinewidth": 0,
              "ticks": ""
             }
            },
            "type": "scattermapbox"
           }
          ],
          "scatterpolar": [
           {
            "marker": {
             "colorbar": {
              "outlinewidth": 0,
              "ticks": ""
             }
            },
            "type": "scatterpolar"
           }
          ],
          "scatterpolargl": [
           {
            "marker": {
             "colorbar": {
              "outlinewidth": 0,
              "ticks": ""
             }
            },
            "type": "scatterpolargl"
           }
          ],
          "scatterternary": [
           {
            "marker": {
             "colorbar": {
              "outlinewidth": 0,
              "ticks": ""
             }
            },
            "type": "scatterternary"
           }
          ],
          "surface": [
           {
            "colorbar": {
             "outlinewidth": 0,
             "ticks": ""
            },
            "colorscale": [
             [
              0,
              "#0d0887"
             ],
             [
              0.1111111111111111,
              "#46039f"
             ],
             [
              0.2222222222222222,
              "#7201a8"
             ],
             [
              0.3333333333333333,
              "#9c179e"
             ],
             [
              0.4444444444444444,
              "#bd3786"
             ],
             [
              0.5555555555555556,
              "#d8576b"
             ],
             [
              0.6666666666666666,
              "#ed7953"
             ],
             [
              0.7777777777777778,
              "#fb9f3a"
             ],
             [
              0.8888888888888888,
              "#fdca26"
             ],
             [
              1,
              "#f0f921"
             ]
            ],
            "type": "surface"
           }
          ],
          "table": [
           {
            "cells": {
             "fill": {
              "color": "#EBF0F8"
             },
             "line": {
              "color": "white"
             }
            },
            "header": {
             "fill": {
              "color": "#C8D4E3"
             },
             "line": {
              "color": "white"
             }
            },
            "type": "table"
           }
          ]
         },
         "layout": {
          "annotationdefaults": {
           "arrowcolor": "#2a3f5f",
           "arrowhead": 0,
           "arrowwidth": 1
          },
          "autotypenumbers": "strict",
          "coloraxis": {
           "colorbar": {
            "outlinewidth": 0,
            "ticks": ""
           }
          },
          "colorscale": {
           "diverging": [
            [
             0,
             "#8e0152"
            ],
            [
             0.1,
             "#c51b7d"
            ],
            [
             0.2,
             "#de77ae"
            ],
            [
             0.3,
             "#f1b6da"
            ],
            [
             0.4,
             "#fde0ef"
            ],
            [
             0.5,
             "#f7f7f7"
            ],
            [
             0.6,
             "#e6f5d0"
            ],
            [
             0.7,
             "#b8e186"
            ],
            [
             0.8,
             "#7fbc41"
            ],
            [
             0.9,
             "#4d9221"
            ],
            [
             1,
             "#276419"
            ]
           ],
           "sequential": [
            [
             0,
             "#0d0887"
            ],
            [
             0.1111111111111111,
             "#46039f"
            ],
            [
             0.2222222222222222,
             "#7201a8"
            ],
            [
             0.3333333333333333,
             "#9c179e"
            ],
            [
             0.4444444444444444,
             "#bd3786"
            ],
            [
             0.5555555555555556,
             "#d8576b"
            ],
            [
             0.6666666666666666,
             "#ed7953"
            ],
            [
             0.7777777777777778,
             "#fb9f3a"
            ],
            [
             0.8888888888888888,
             "#fdca26"
            ],
            [
             1,
             "#f0f921"
            ]
           ],
           "sequentialminus": [
            [
             0,
             "#0d0887"
            ],
            [
             0.1111111111111111,
             "#46039f"
            ],
            [
             0.2222222222222222,
             "#7201a8"
            ],
            [
             0.3333333333333333,
             "#9c179e"
            ],
            [
             0.4444444444444444,
             "#bd3786"
            ],
            [
             0.5555555555555556,
             "#d8576b"
            ],
            [
             0.6666666666666666,
             "#ed7953"
            ],
            [
             0.7777777777777778,
             "#fb9f3a"
            ],
            [
             0.8888888888888888,
             "#fdca26"
            ],
            [
             1,
             "#f0f921"
            ]
           ]
          },
          "colorway": [
           "#636efa",
           "#EF553B",
           "#00cc96",
           "#ab63fa",
           "#FFA15A",
           "#19d3f3",
           "#FF6692",
           "#B6E880",
           "#FF97FF",
           "#FECB52"
          ],
          "font": {
           "color": "#2a3f5f"
          },
          "geo": {
           "bgcolor": "white",
           "lakecolor": "white",
           "landcolor": "#E5ECF6",
           "showlakes": true,
           "showland": true,
           "subunitcolor": "white"
          },
          "hoverlabel": {
           "align": "left"
          },
          "hovermode": "closest",
          "mapbox": {
           "style": "light"
          },
          "paper_bgcolor": "white",
          "plot_bgcolor": "#E5ECF6",
          "polar": {
           "angularaxis": {
            "gridcolor": "white",
            "linecolor": "white",
            "ticks": ""
           },
           "bgcolor": "#E5ECF6",
           "radialaxis": {
            "gridcolor": "white",
            "linecolor": "white",
            "ticks": ""
           }
          },
          "scene": {
           "xaxis": {
            "backgroundcolor": "#E5ECF6",
            "gridcolor": "white",
            "gridwidth": 2,
            "linecolor": "white",
            "showbackground": true,
            "ticks": "",
            "zerolinecolor": "white"
           },
           "yaxis": {
            "backgroundcolor": "#E5ECF6",
            "gridcolor": "white",
            "gridwidth": 2,
            "linecolor": "white",
            "showbackground": true,
            "ticks": "",
            "zerolinecolor": "white"
           },
           "zaxis": {
            "backgroundcolor": "#E5ECF6",
            "gridcolor": "white",
            "gridwidth": 2,
            "linecolor": "white",
            "showbackground": true,
            "ticks": "",
            "zerolinecolor": "white"
           }
          },
          "shapedefaults": {
           "line": {
            "color": "#2a3f5f"
           }
          },
          "ternary": {
           "aaxis": {
            "gridcolor": "white",
            "linecolor": "white",
            "ticks": ""
           },
           "baxis": {
            "gridcolor": "white",
            "linecolor": "white",
            "ticks": ""
           },
           "bgcolor": "#E5ECF6",
           "caxis": {
            "gridcolor": "white",
            "linecolor": "white",
            "ticks": ""
           }
          },
          "title": {
           "x": 0.05
          },
          "xaxis": {
           "automargin": true,
           "gridcolor": "white",
           "linecolor": "white",
           "ticks": "",
           "title": {
            "standoff": 15
           },
           "zerolinecolor": "white",
           "zerolinewidth": 2
          },
          "yaxis": {
           "automargin": true,
           "gridcolor": "white",
           "linecolor": "white",
           "ticks": "",
           "title": {
            "standoff": 15
           },
           "zerolinecolor": "white",
           "zerolinewidth": 2
          }
         }
        }
       }
      }
     },
     "metadata": {},
     "output_type": "display_data"
    }
   ],
   "source": [
    "# Create a treemap (No need to know how large each of ticker is in our position)\n",
    "fig = px.treemap(filtered_df, path=[px.Constant(\"Sectors\"), 'Sector', 'Industry', 'ticker'],\n",
    "                  color='Sentiment Score', hover_data=['Price', 'Negative', 'Neutral', 'Positive', 'Sentiment Score'],\n",
    "                  color_continuous_scale=['#FF0000', \"#000000\", '#00FF00'],\n",
    "                  color_continuous_midpoint=0)\n",
    "\n",
    "fig.data[0].customdata = filtered_df[['Price', 'Negative', 'Neutral', 'Positive', 'Sentiment Score']].round(3) # round to 3 decimal places\n",
    "fig.data[0].texttemplate = \"%{label}<br>%{customdata[4]}\"\n",
    "\n",
    "fig.update_traces(textposition=\"middle center\")\n",
    "fig.update_layout(margin=dict(t=30, l=10, r=10, b=10), font_size=20)\n",
    "\n",
    "plotly.offline.plot(fig, filename='stock_sentiment.html') # this writes the plot into a html file and opens it\n",
    "fig.show()"
   ]
  },
  {
   "cell_type": "code",
   "execution_count": null,
   "metadata": {},
   "outputs": [],
   "source": []
  }
 ],
 "metadata": {
  "kernelspec": {
   "display_name": "Python 3",
   "language": "python",
   "name": "python3"
  },
  "language_info": {
   "codemirror_mode": {
    "name": "ipython",
    "version": 3
   },
   "file_extension": ".py",
   "mimetype": "text/x-python",
   "name": "python",
   "nbconvert_exporter": "python",
   "pygments_lexer": "ipython3",
   "version": "3.11.0"
  }
 },
 "nbformat": 4,
 "nbformat_minor": 2
}
